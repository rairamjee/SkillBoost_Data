{
 "cells": [
  {
   "cell_type": "markdown",
   "metadata": {},
   "source": [
    "# Preparation"
   ]
  },
  {
   "cell_type": "markdown",
   "metadata": {},
   "source": [
    "### Imports"
   ]
  },
  {
   "cell_type": "code",
   "execution_count": 41,
   "metadata": {},
   "outputs": [],
   "source": [
    "import pandas as pd\n",
    "import os"
   ]
  },
  {
   "cell_type": "markdown",
   "metadata": {},
   "source": [
    "#### Users"
   ]
  },
  {
   "cell_type": "code",
   "execution_count": 42,
   "metadata": {},
   "outputs": [
    {
     "name": "stdout",
     "output_type": "stream",
     "text": [
      "<class 'pandas.core.frame.DataFrame'>\n",
      "RangeIndex: 300 entries, 0 to 299\n",
      "Data columns (total 8 columns):\n",
      " #   Column       Non-Null Count  Dtype \n",
      "---  ------       --------------  ----- \n",
      " 0   userId       300 non-null    int64 \n",
      " 1   userName     300 non-null    object\n",
      " 2   email        300 non-null    object\n",
      " 3   password     300 non-null    object\n",
      " 4   role         300 non-null    object\n",
      " 5   designation  300 non-null    object\n",
      " 6   gender       300 non-null    object\n",
      " 7   joinDate     300 non-null    object\n",
      "dtypes: int64(1), object(7)\n",
      "memory usage: 18.9+ KB\n"
     ]
    }
   ],
   "source": [
    "users_raw_df=pd.DataFrame(pd.read_csv('01Raw/usersRaw.csv'))\n",
    "users_raw_df.info()"
   ]
  },
  {
   "cell_type": "code",
   "execution_count": 43,
   "metadata": {},
   "outputs": [
    {
     "name": "stdout",
     "output_type": "stream",
     "text": [
      "<class 'pandas.core.frame.DataFrame'>\n",
      "RangeIndex: 300 entries, 0 to 299\n",
      "Data columns (total 5 columns):\n",
      " #   Column       Non-Null Count  Dtype \n",
      "---  ------       --------------  ----- \n",
      " 0   userId       300 non-null    int64 \n",
      " 1   userName     300 non-null    object\n",
      " 2   role         300 non-null    object\n",
      " 3   designation  300 non-null    object\n",
      " 4   joinDate     300 non-null    object\n",
      "dtypes: int64(1), object(4)\n",
      "memory usage: 11.8+ KB\n"
     ]
    }
   ],
   "source": [
    "users_raw_df.drop('password',axis=1,inplace=True)\n",
    "users_raw_df.drop('gender',axis=1,inplace=True)\n",
    "users_raw_df.drop('email',axis=1,inplace=True)\n",
    "users_raw_df.info()"
   ]
  },
  {
   "cell_type": "code",
   "execution_count": 44,
   "metadata": {},
   "outputs": [
    {
     "name": "stdout",
     "output_type": "stream",
     "text": [
      "object\n",
      "datetime64[ns]\n",
      "<class 'pandas.core.frame.DataFrame'>\n",
      "RangeIndex: 300 entries, 0 to 299\n",
      "Data columns (total 5 columns):\n",
      " #   Column       Non-Null Count  Dtype         \n",
      "---  ------       --------------  -----         \n",
      " 0   userId       300 non-null    int64         \n",
      " 1   userName     300 non-null    object        \n",
      " 2   role         300 non-null    object        \n",
      " 3   designation  300 non-null    object        \n",
      " 4   joinDate     300 non-null    datetime64[ns]\n",
      "dtypes: datetime64[ns](1), int64(1), object(3)\n",
      "memory usage: 11.8+ KB\n"
     ]
    }
   ],
   "source": [
    "print(users_raw_df['joinDate'].dtype)\n",
    "users_raw_df['joinDate']=pd.to_datetime(users_raw_df['joinDate'])\n",
    "print(users_raw_df['joinDate'].dtype)\n",
    "users_raw_df.info()"
   ]
  },
  {
   "cell_type": "markdown",
   "metadata": {},
   "source": [
    "#### Trainings"
   ]
  },
  {
   "cell_type": "code",
   "execution_count": 45,
   "metadata": {},
   "outputs": [
    {
     "name": "stdout",
     "output_type": "stream",
     "text": [
      "<class 'pandas.core.frame.DataFrame'>\n",
      "RangeIndex: 100 entries, 0 to 99\n",
      "Data columns (total 7 columns):\n",
      " #   Column        Non-Null Count  Dtype \n",
      "---  ------        --------------  ----- \n",
      " 0   trainingId    100 non-null    int64 \n",
      " 1   trainingName  100 non-null    object\n",
      " 2   description   100 non-null    object\n",
      " 3   domainName    100 non-null    object\n",
      " 4   domainId      100 non-null    int64 \n",
      " 5   duration      100 non-null    int64 \n",
      " 6   startDate     100 non-null    object\n",
      "dtypes: int64(3), object(4)\n",
      "memory usage: 5.6+ KB\n"
     ]
    }
   ],
   "source": [
    "trainings_raw_df=pd.DataFrame(pd.read_csv('01Raw/trainingsRaw.csv'))\n",
    "trainings_raw_df.info()"
   ]
  },
  {
   "cell_type": "code",
   "execution_count": 46,
   "metadata": {},
   "outputs": [],
   "source": [
    "def assignDomainId(domainName):\n",
    "    if domainName == 'DataEngineering':\n",
    "        return 1\n",
    "    elif domainName == 'FullStack':\n",
    "        return 2\n",
    "    elif domainName == 'DevOps':\n",
    "        return 3\n",
    "    elif domainName == 'DataScience':\n",
    "        return 4\n",
    "    elif domainName =='SoftSkills':\n",
    "        return 5\n",
    "\n",
    "\n",
    "trainings_raw_df['domainId'] = trainings_raw_df['domainName'].apply(assignDomainId)"
   ]
  },
  {
   "cell_type": "code",
   "execution_count": 47,
   "metadata": {},
   "outputs": [
    {
     "name": "stdout",
     "output_type": "stream",
     "text": [
      "<class 'pandas.core.frame.DataFrame'>\n",
      "RangeIndex: 100 entries, 0 to 99\n",
      "Data columns (total 7 columns):\n",
      " #   Column        Non-Null Count  Dtype \n",
      "---  ------        --------------  ----- \n",
      " 0   trainingId    100 non-null    int64 \n",
      " 1   trainingName  100 non-null    object\n",
      " 2   description   100 non-null    object\n",
      " 3   domainName    100 non-null    object\n",
      " 4   domainId      100 non-null    int64 \n",
      " 5   duration      100 non-null    int64 \n",
      " 6   startDate     100 non-null    object\n",
      "dtypes: int64(3), object(4)\n",
      "memory usage: 5.6+ KB\n",
      "<class 'pandas.core.frame.DataFrame'>\n",
      "RangeIndex: 100 entries, 0 to 99\n",
      "Data columns (total 6 columns):\n",
      " #   Column        Non-Null Count  Dtype \n",
      "---  ------        --------------  ----- \n",
      " 0   trainingId    100 non-null    int64 \n",
      " 1   trainingName  100 non-null    object\n",
      " 2   domainName    100 non-null    object\n",
      " 3   domainId      100 non-null    int64 \n",
      " 4   duration      100 non-null    int64 \n",
      " 5   startDate     100 non-null    object\n",
      "dtypes: int64(3), object(3)\n",
      "memory usage: 4.8+ KB\n"
     ]
    }
   ],
   "source": [
    "trainings_raw_df.info()\n",
    "trainings_raw_df.drop('description',axis=1,inplace=True)\n",
    "trainings_raw_df.info()"
   ]
  },
  {
   "cell_type": "code",
   "execution_count": 48,
   "metadata": {},
   "outputs": [
    {
     "name": "stdout",
     "output_type": "stream",
     "text": [
      "<class 'pandas.core.frame.DataFrame'>\n",
      "RangeIndex: 100 entries, 0 to 99\n",
      "Data columns (total 6 columns):\n",
      " #   Column        Non-Null Count  Dtype         \n",
      "---  ------        --------------  -----         \n",
      " 0   trainingId    100 non-null    int64         \n",
      " 1   trainingName  100 non-null    object        \n",
      " 2   domainName    100 non-null    object        \n",
      " 3   domainId      100 non-null    int64         \n",
      " 4   duration      100 non-null    int64         \n",
      " 5   startDate     100 non-null    datetime64[ns]\n",
      "dtypes: datetime64[ns](1), int64(3), object(2)\n",
      "memory usage: 4.8+ KB\n"
     ]
    }
   ],
   "source": [
    "trainings_raw_df['startDate']=pd.to_datetime(trainings_raw_df['startDate'])\n",
    "trainings_raw_df.info()"
   ]
  },
  {
   "cell_type": "markdown",
   "metadata": {},
   "source": [
    "#### Responses "
   ]
  },
  {
   "cell_type": "markdown",
   "metadata": {},
   "source": [
    "responses_raw_df=pd.DataFrame(pd.read_csv('01Raw/responsesRaw.csv'))\n",
    "responses_raw_df['userId'].nunique()"
   ]
  },
  {
   "cell_type": "code",
   "execution_count": 49,
   "metadata": {},
   "outputs": [
    {
     "data": {
      "text/plain": [
       "300"
      ]
     },
     "execution_count": 49,
     "metadata": {},
     "output_type": "execute_result"
    }
   ],
   "source": [
    "responses_raw_df=pd.DataFrame(pd.read_csv('01Raw/responsesRaw.csv'))\n",
    "responses_raw_df['userId'].nunique()"
   ]
  },
  {
   "cell_type": "code",
   "execution_count": 50,
   "metadata": {},
   "outputs": [
    {
     "name": "stdout",
     "output_type": "stream",
     "text": [
      "datetime64[ns]\n",
      "<class 'pandas.core.frame.DataFrame'>\n",
      "RangeIndex: 10000 entries, 0 to 9999\n",
      "Data columns (total 5 columns):\n",
      " #   Column        Non-Null Count  Dtype         \n",
      "---  ------        --------------  -----         \n",
      " 0   responseId    10000 non-null  int64         \n",
      " 1   userId        10000 non-null  int64         \n",
      " 2   trainingId    10000 non-null  int64         \n",
      " 3   score         10000 non-null  int64         \n",
      " 4   responseDate  10000 non-null  datetime64[ns]\n",
      "dtypes: datetime64[ns](1), int64(4)\n",
      "memory usage: 390.8 KB\n"
     ]
    }
   ],
   "source": [
    "responses_raw_df['responseDate']=pd.to_datetime(responses_raw_df['responseDate'])\n",
    "print(responses_raw_df['responseDate'].dtypes)\n",
    "responses_raw_df.info()"
   ]
  },
  {
   "cell_type": "markdown",
   "metadata": {},
   "source": [
    "#### Organisation Review "
   ]
  },
  {
   "cell_type": "markdown",
   "metadata": {},
   "source": [
    "organisation_reviews_raw_df=pd.DataFrame(pd.read_csv('01Raw/organisationReviewsRaw.csv'))\n",
    "organisation_reviews_raw_df.info()"
   ]
  },
  {
   "cell_type": "code",
   "execution_count": 51,
   "metadata": {},
   "outputs": [
    {
     "name": "stdout",
     "output_type": "stream",
     "text": [
      "<class 'pandas.core.frame.DataFrame'>\n",
      "RangeIndex: 10000 entries, 0 to 9999\n",
      "Data columns (total 7 columns):\n",
      " #   Column             Non-Null Count  Dtype\n",
      "---  ------             --------------  -----\n",
      " 0   reviewId           10000 non-null  int64\n",
      " 1   userId             10000 non-null  int64\n",
      " 2   trainingId         10000 non-null  int64\n",
      " 3   organisationScore  10000 non-null  int64\n",
      " 4   discipline         10000 non-null  bool \n",
      " 5   hardWorking        10000 non-null  bool \n",
      " 6   communication      10000 non-null  bool \n",
      "dtypes: bool(3), int64(4)\n",
      "memory usage: 341.9 KB\n"
     ]
    }
   ],
   "source": [
    "organisation_reviews_raw_df=pd.DataFrame(pd.read_csv('01Raw/organisationReviewsRaw.csv'))\n",
    "organisation_reviews_raw_df.info()"
   ]
  },
  {
   "cell_type": "code",
   "execution_count": 52,
   "metadata": {},
   "outputs": [
    {
     "data": {
      "text/html": [
       "<div>\n",
       "<style scoped>\n",
       "    .dataframe tbody tr th:only-of-type {\n",
       "        vertical-align: middle;\n",
       "    }\n",
       "\n",
       "    .dataframe tbody tr th {\n",
       "        vertical-align: top;\n",
       "    }\n",
       "\n",
       "    .dataframe thead th {\n",
       "        text-align: right;\n",
       "    }\n",
       "</style>\n",
       "<table border=\"1\" class=\"dataframe\">\n",
       "  <thead>\n",
       "    <tr style=\"text-align: right;\">\n",
       "      <th></th>\n",
       "      <th>reviewId</th>\n",
       "      <th>userId</th>\n",
       "      <th>trainingId</th>\n",
       "      <th>organisationScore</th>\n",
       "      <th>discipline</th>\n",
       "      <th>hardWorking</th>\n",
       "      <th>communication</th>\n",
       "      <th>communicationMarks</th>\n",
       "      <th>hardWorkingMarks</th>\n",
       "      <th>disciplineMarks</th>\n",
       "    </tr>\n",
       "  </thead>\n",
       "  <tbody>\n",
       "    <tr>\n",
       "      <th>0</th>\n",
       "      <td>1</td>\n",
       "      <td>190</td>\n",
       "      <td>79</td>\n",
       "      <td>85</td>\n",
       "      <td>True</td>\n",
       "      <td>False</td>\n",
       "      <td>True</td>\n",
       "      <td>1</td>\n",
       "      <td>0</td>\n",
       "      <td>1</td>\n",
       "    </tr>\n",
       "    <tr>\n",
       "      <th>1</th>\n",
       "      <td>2</td>\n",
       "      <td>77</td>\n",
       "      <td>12</td>\n",
       "      <td>68</td>\n",
       "      <td>True</td>\n",
       "      <td>False</td>\n",
       "      <td>True</td>\n",
       "      <td>1</td>\n",
       "      <td>0</td>\n",
       "      <td>1</td>\n",
       "    </tr>\n",
       "    <tr>\n",
       "      <th>2</th>\n",
       "      <td>3</td>\n",
       "      <td>72</td>\n",
       "      <td>61</td>\n",
       "      <td>25</td>\n",
       "      <td>True</td>\n",
       "      <td>False</td>\n",
       "      <td>False</td>\n",
       "      <td>0</td>\n",
       "      <td>0</td>\n",
       "      <td>1</td>\n",
       "    </tr>\n",
       "    <tr>\n",
       "      <th>3</th>\n",
       "      <td>4</td>\n",
       "      <td>181</td>\n",
       "      <td>21</td>\n",
       "      <td>85</td>\n",
       "      <td>True</td>\n",
       "      <td>False</td>\n",
       "      <td>False</td>\n",
       "      <td>0</td>\n",
       "      <td>0</td>\n",
       "      <td>1</td>\n",
       "    </tr>\n",
       "    <tr>\n",
       "      <th>4</th>\n",
       "      <td>5</td>\n",
       "      <td>168</td>\n",
       "      <td>69</td>\n",
       "      <td>28</td>\n",
       "      <td>True</td>\n",
       "      <td>True</td>\n",
       "      <td>False</td>\n",
       "      <td>0</td>\n",
       "      <td>1</td>\n",
       "      <td>1</td>\n",
       "    </tr>\n",
       "  </tbody>\n",
       "</table>\n",
       "</div>"
      ],
      "text/plain": [
       "   reviewId  userId  trainingId  organisationScore  discipline  hardWorking  \\\n",
       "0         1     190          79                 85        True        False   \n",
       "1         2      77          12                 68        True        False   \n",
       "2         3      72          61                 25        True        False   \n",
       "3         4     181          21                 85        True        False   \n",
       "4         5     168          69                 28        True         True   \n",
       "\n",
       "   communication  communicationMarks  hardWorkingMarks  disciplineMarks  \n",
       "0           True                   1                 0                1  \n",
       "1           True                   1                 0                1  \n",
       "2          False                   0                 0                1  \n",
       "3          False                   0                 0                1  \n",
       "4          False                   0                 1                1  "
      ]
     },
     "execution_count": 52,
     "metadata": {},
     "output_type": "execute_result"
    }
   ],
   "source": [
    "def valueChange(values):\n",
    "    if values == True:\n",
    "        return 1\n",
    "    elif values== False:\n",
    "        return 0\n",
    "    \n",
    "organisation_reviews_raw_df['communicationMarks']=organisation_reviews_raw_df['communication'].apply(valueChange)\n",
    "organisation_reviews_raw_df['hardWorkingMarks']=organisation_reviews_raw_df['hardWorking'].apply(valueChange)\n",
    "organisation_reviews_raw_df['disciplineMarks']=organisation_reviews_raw_df['discipline'].apply(valueChange)\n",
    "organisation_reviews_raw_df.head()"
   ]
  },
  {
   "cell_type": "code",
   "execution_count": 53,
   "metadata": {},
   "outputs": [
    {
     "name": "stdout",
     "output_type": "stream",
     "text": [
      "<class 'pandas.core.frame.DataFrame'>\n",
      "RangeIndex: 10000 entries, 0 to 9999\n",
      "Data columns (total 7 columns):\n",
      " #   Column              Non-Null Count  Dtype\n",
      "---  ------              --------------  -----\n",
      " 0   reviewId            10000 non-null  int64\n",
      " 1   userId              10000 non-null  int64\n",
      " 2   trainingId          10000 non-null  int64\n",
      " 3   organisationScore   10000 non-null  int64\n",
      " 4   communicationMarks  10000 non-null  int64\n",
      " 5   hardWorkingMarks    10000 non-null  int64\n",
      " 6   disciplineMarks     10000 non-null  int64\n",
      "dtypes: int64(7)\n",
      "memory usage: 547.0 KB\n"
     ]
    }
   ],
   "source": [
    "organisation_reviews_raw_df.drop(columns=['discipline','hardWorking','communication'], inplace=True )\n",
    "organisation_reviews_raw_df.info()"
   ]
  },
  {
   "cell_type": "markdown",
   "metadata": {},
   "source": [
    "#### Loading Data "
   ]
  },
  {
   "cell_type": "code",
   "execution_count": 54,
   "metadata": {},
   "outputs": [],
   "source": [
    "os.makedirs('02Prep',exist_ok=True)"
   ]
  },
  {
   "cell_type": "code",
   "execution_count": 55,
   "metadata": {},
   "outputs": [],
   "source": [
    "users_raw_df.to_csv('02Prep/usersPrep.csv', index=False)\n",
    "trainings_raw_df.to_csv('02Prep/trainingsPrep.csv',index=False)\n",
    "responses_raw_df.to_csv('02Prep/responsesPrep.csv',index=False)\n",
    "organisation_reviews_raw_df.to_csv('02Prep/organisationReviewPrep.csv',index=False)"
   ]
  }
 ],
 "metadata": {
  "kernelspec": {
   "display_name": "Python 3",
   "language": "python",
   "name": "python3"
  },
  "language_info": {
   "codemirror_mode": {
    "name": "ipython",
    "version": 3
   },
   "file_extension": ".py",
   "mimetype": "text/x-python",
   "name": "python",
   "nbconvert_exporter": "python",
   "pygments_lexer": "ipython3",
   "version": "3.12.5"
  }
 },
 "nbformat": 4,
 "nbformat_minor": 2
}
