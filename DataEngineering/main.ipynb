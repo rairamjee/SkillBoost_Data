{
 "cells": [
  {
   "cell_type": "code",
   "execution_count": 28,
   "metadata": {},
   "outputs": [
    {
     "name": "stdout",
     "output_type": "stream",
     "text": [
      "Defaulting to user installation because normal site-packages is not writeable\n",
      "Requirement already satisfied: pandas in c:\\users\\ramjeerai\\appdata\\roaming\\python\\python312\\site-packages (2.2.2)\n",
      "Requirement already satisfied: numpy>=1.26.0 in c:\\users\\ramjeerai\\appdata\\roaming\\python\\python312\\site-packages (from pandas) (2.1.0)\n",
      "Requirement already satisfied: python-dateutil>=2.8.2 in c:\\users\\ramjeerai\\appdata\\roaming\\python\\python312\\site-packages (from pandas) (2.9.0.post0)\n",
      "Requirement already satisfied: pytz>=2020.1 in c:\\users\\ramjeerai\\appdata\\roaming\\python\\python312\\site-packages (from pandas) (2024.1)\n",
      "Requirement already satisfied: tzdata>=2022.7 in c:\\users\\ramjeerai\\appdata\\roaming\\python\\python312\\site-packages (from pandas) (2024.1)\n",
      "Requirement already satisfied: six>=1.5 in c:\\users\\ramjeerai\\appdata\\roaming\\python\\python312\\site-packages (from python-dateutil>=2.8.2->pandas) (1.16.0)\n",
      "Note: you may need to restart the kernel to use updated packages.\n"
     ]
    }
   ],
   "source": [
    "%pip install pandas "
   ]
  },
  {
   "cell_type": "markdown",
   "metadata": {},
   "source": [
    "### Imports"
   ]
  },
  {
   "cell_type": "code",
   "execution_count": 29,
   "metadata": {},
   "outputs": [],
   "source": [
    "import pandas as pd\n",
    "import os"
   ]
  },
  {
   "cell_type": "markdown",
   "metadata": {},
   "source": [
    "### Data Loading"
   ]
  },
  {
   "cell_type": "code",
   "execution_count": 30,
   "metadata": {},
   "outputs": [],
   "source": [
    "users = pd.read_csv('../DataGeneration/users.csv')\n",
    "trainings = pd.read_csv('../DataGeneration/trainings.csv')\n",
    "responses = pd.read_csv('../DataGeneration/responses.csv')\n",
    "organisation_reviews = pd.read_csv('../DataGeneration/organisationReviews.csv')"
   ]
  },
  {
   "cell_type": "code",
   "execution_count": 31,
   "metadata": {},
   "outputs": [],
   "source": [
    "os.makedirs('Raw', exist_ok=True)"
   ]
  },
  {
   "cell_type": "code",
   "execution_count": 32,
   "metadata": {},
   "outputs": [],
   "source": [
    "users.to_csv('Raw/usersRaw.csv', index=False)\n",
    "trainings.to_csv('Raw/trainingsRaw.csv', index=False)\n",
    "responses.to_csv('Raw/responsesRaw.csv', index=False)\n",
    "organisation_reviews.to_csv('Raw/organisationReviewsRaw.csv', index=False)"
   ]
  },
  {
   "cell_type": "markdown",
   "metadata": {},
   "source": [
    "### Raw Layer"
   ]
  },
  {
   "cell_type": "markdown",
   "metadata": {},
   "source": [
    "Data is being read from the Raw layer and will be prepared for the stagging layer "
   ]
  },
  {
   "cell_type": "markdown",
   "metadata": {},
   "source": [
    "##### Users"
   ]
  },
  {
   "cell_type": "code",
   "execution_count": 33,
   "metadata": {},
   "outputs": [
    {
     "name": "stdout",
     "output_type": "stream",
     "text": [
      "<class 'pandas.core.frame.DataFrame'>\n",
      "RangeIndex: 300 entries, 0 to 299\n",
      "Data columns (total 8 columns):\n",
      " #   Column       Non-Null Count  Dtype \n",
      "---  ------       --------------  ----- \n",
      " 0   userId       300 non-null    int64 \n",
      " 1   userName     300 non-null    object\n",
      " 2   email        300 non-null    object\n",
      " 3   password     300 non-null    object\n",
      " 4   role         300 non-null    object\n",
      " 5   designation  300 non-null    object\n",
      " 6   gender       300 non-null    object\n",
      " 7   joinDate     300 non-null    object\n",
      "dtypes: int64(1), object(7)\n",
      "memory usage: 18.9+ KB\n"
     ]
    }
   ],
   "source": [
    "users_raw_df=pd.DataFrame(pd.read_csv('Raw/usersRaw.csv'))\n",
    "users_raw_df.info()"
   ]
  },
  {
   "cell_type": "code",
   "execution_count": 34,
   "metadata": {},
   "outputs": [
    {
     "name": "stdout",
     "output_type": "stream",
     "text": [
      "<class 'pandas.core.frame.DataFrame'>\n",
      "RangeIndex: 300 entries, 0 to 299\n",
      "Data columns (total 5 columns):\n",
      " #   Column       Non-Null Count  Dtype \n",
      "---  ------       --------------  ----- \n",
      " 0   userId       300 non-null    int64 \n",
      " 1   userName     300 non-null    object\n",
      " 2   role         300 non-null    object\n",
      " 3   designation  300 non-null    object\n",
      " 4   joinDate     300 non-null    object\n",
      "dtypes: int64(1), object(4)\n",
      "memory usage: 11.8+ KB\n"
     ]
    }
   ],
   "source": [
    "users_raw_df.drop('password',axis=1,inplace=True)\n",
    "users_raw_df.drop('gender',axis=1,inplace=True)\n",
    "users_raw_df.drop('email',axis=1,inplace=True)\n",
    "users_raw_df.info()"
   ]
  },
  {
   "cell_type": "code",
   "execution_count": 35,
   "metadata": {},
   "outputs": [
    {
     "name": "stdout",
     "output_type": "stream",
     "text": [
      "object\n",
      "datetime64[ns]\n",
      "<class 'pandas.core.frame.DataFrame'>\n",
      "RangeIndex: 300 entries, 0 to 299\n",
      "Data columns (total 5 columns):\n",
      " #   Column       Non-Null Count  Dtype         \n",
      "---  ------       --------------  -----         \n",
      " 0   userId       300 non-null    int64         \n",
      " 1   userName     300 non-null    object        \n",
      " 2   role         300 non-null    object        \n",
      " 3   designation  300 non-null    object        \n",
      " 4   joinDate     300 non-null    datetime64[ns]\n",
      "dtypes: datetime64[ns](1), int64(1), object(3)\n",
      "memory usage: 11.8+ KB\n"
     ]
    }
   ],
   "source": [
    "print(users_raw_df['joinDate'].dtype)\n",
    "users_raw_df['joinDate']=pd.to_datetime(users_raw_df['joinDate'])\n",
    "print(users_raw_df['joinDate'].dtype)\n",
    "users_raw_df.info()"
   ]
  },
  {
   "cell_type": "markdown",
   "metadata": {},
   "source": [
    "##### Trainings"
   ]
  },
  {
   "cell_type": "code",
   "execution_count": 45,
   "metadata": {},
   "outputs": [
    {
     "name": "stdout",
     "output_type": "stream",
     "text": [
      "<class 'pandas.core.frame.DataFrame'>\n",
      "RangeIndex: 100 entries, 0 to 99\n",
      "Data columns (total 7 columns):\n",
      " #   Column        Non-Null Count  Dtype \n",
      "---  ------        --------------  ----- \n",
      " 0   trainingId    100 non-null    int64 \n",
      " 1   trainingName  100 non-null    object\n",
      " 2   description   100 non-null    object\n",
      " 3   domainName    100 non-null    object\n",
      " 4   domainId      100 non-null    int64 \n",
      " 5   duration      100 non-null    int64 \n",
      " 6   startDate     100 non-null    object\n",
      "dtypes: int64(3), object(4)\n",
      "memory usage: 5.6+ KB\n"
     ]
    }
   ],
   "source": [
    "trainings_raw_df=pd.DataFrame(pd.read_csv('Raw/trainingsRaw.csv'))\n",
    "trainings_raw_df.info()"
   ]
  },
  {
   "cell_type": "code",
   "execution_count": 46,
   "metadata": {},
   "outputs": [],
   "source": [
    "def assignDomainId(domainName):\n",
    "    if domainName == 'DataEngineering':\n",
    "        return 1\n",
    "    elif domainName == 'FullStack':\n",
    "        return 2\n",
    "    elif domainName == 'DevOps':\n",
    "        return 3\n",
    "    elif domainName == 'DataScience':\n",
    "        return 4\n",
    "    elif domainName =='SoftSkills':\n",
    "        return 5\n",
    "\n",
    "\n",
    "trainings_raw_df['domainId'] = trainings_raw_df['domainName'].apply(assignDomainId)"
   ]
  },
  {
   "cell_type": "code",
   "execution_count": 48,
   "metadata": {},
   "outputs": [
    {
     "name": "stdout",
     "output_type": "stream",
     "text": [
      "<class 'pandas.core.frame.DataFrame'>\n",
      "RangeIndex: 100 entries, 0 to 99\n",
      "Data columns (total 7 columns):\n",
      " #   Column        Non-Null Count  Dtype \n",
      "---  ------        --------------  ----- \n",
      " 0   trainingId    100 non-null    int64 \n",
      " 1   trainingName  100 non-null    object\n",
      " 2   description   100 non-null    object\n",
      " 3   domainName    100 non-null    object\n",
      " 4   domainId      100 non-null    int64 \n",
      " 5   duration      100 non-null    int64 \n",
      " 6   startDate     100 non-null    object\n",
      "dtypes: int64(3), object(4)\n",
      "memory usage: 5.6+ KB\n",
      "<class 'pandas.core.frame.DataFrame'>\n",
      "RangeIndex: 100 entries, 0 to 99\n",
      "Data columns (total 6 columns):\n",
      " #   Column        Non-Null Count  Dtype \n",
      "---  ------        --------------  ----- \n",
      " 0   trainingId    100 non-null    int64 \n",
      " 1   trainingName  100 non-null    object\n",
      " 2   domainName    100 non-null    object\n",
      " 3   domainId      100 non-null    int64 \n",
      " 4   duration      100 non-null    int64 \n",
      " 5   startDate     100 non-null    object\n",
      "dtypes: int64(3), object(3)\n",
      "memory usage: 4.8+ KB\n"
     ]
    }
   ],
   "source": [
    "trainings_raw_df.info()\n",
    "trainings_raw_df.drop('description',axis=1,inplace=True)\n",
    "trainings_raw_df.info()"
   ]
  },
  {
   "cell_type": "code",
   "execution_count": 50,
   "metadata": {},
   "outputs": [
    {
     "name": "stdout",
     "output_type": "stream",
     "text": [
      "<class 'pandas.core.frame.DataFrame'>\n",
      "RangeIndex: 100 entries, 0 to 99\n",
      "Data columns (total 6 columns):\n",
      " #   Column        Non-Null Count  Dtype         \n",
      "---  ------        --------------  -----         \n",
      " 0   trainingId    100 non-null    int64         \n",
      " 1   trainingName  100 non-null    object        \n",
      " 2   domainName    100 non-null    object        \n",
      " 3   domainId      100 non-null    int64         \n",
      " 4   duration      100 non-null    int64         \n",
      " 5   startDate     100 non-null    datetime64[ns]\n",
      "dtypes: datetime64[ns](1), int64(3), object(2)\n",
      "memory usage: 4.8+ KB\n"
     ]
    }
   ],
   "source": [
    "trainings_raw_df['startDate']=pd.to_datetime(trainings_raw_df['startDate'])\n",
    "trainings_raw_df.info()"
   ]
  },
  {
   "cell_type": "markdown",
   "metadata": {},
   "source": [
    "##### Responses "
   ]
  },
  {
   "cell_type": "code",
   "execution_count": 61,
   "metadata": {},
   "outputs": [
    {
     "data": {
      "text/plain": [
       "300"
      ]
     },
     "execution_count": 61,
     "metadata": {},
     "output_type": "execute_result"
    }
   ],
   "source": [
    "responses_raw_df=pd.DataFrame(pd.read_csv('Raw/responsesRaw.csv'))\n",
    "responses_raw_df['userId'].nunique()"
   ]
  },
  {
   "cell_type": "code",
   "execution_count": 72,
   "metadata": {},
   "outputs": [
    {
     "name": "stdout",
     "output_type": "stream",
     "text": [
      "object\n"
     ]
    }
   ],
   "source": [
    "pd.to_datetime(responses_raw_df['responseDate'])\n",
    "print(responses_raw_df['responseDate'].dtypes)"
   ]
  },
  {
   "cell_type": "code",
   "execution_count": null,
   "metadata": {},
   "outputs": [],
   "source": []
  }
 ],
 "metadata": {
  "kernelspec": {
   "display_name": "Python 3",
   "language": "python",
   "name": "python3"
  },
  "language_info": {
   "codemirror_mode": {
    "name": "ipython",
    "version": 3
   },
   "file_extension": ".py",
   "mimetype": "text/x-python",
   "name": "python",
   "nbconvert_exporter": "python",
   "pygments_lexer": "ipython3",
   "version": "3.12.5"
  }
 },
 "nbformat": 4,
 "nbformat_minor": 2
}
