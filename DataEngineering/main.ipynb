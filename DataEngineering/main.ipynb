{
 "cells": [
  {
   "cell_type": "code",
   "execution_count": 38,
   "metadata": {},
   "outputs": [
    {
     "name": "stdout",
     "output_type": "stream",
     "text": [
      "Requirement already satisfied: pandas in c:\\python312\\lib\\site-packages (2.2.1)\n",
      "Requirement already satisfied: numpy<2,>=1.26.0 in c:\\python312\\lib\\site-packages (from pandas) (1.26.4)\n",
      "Requirement already satisfied: python-dateutil>=2.8.2 in c:\\python312\\lib\\site-packages (from pandas) (2.9.0.post0)\n",
      "Requirement already satisfied: pytz>=2020.1 in c:\\python312\\lib\\site-packages (from pandas) (2024.1)\n",
      "Requirement already satisfied: tzdata>=2022.7 in c:\\python312\\lib\\site-packages (from pandas) (2024.1)\n",
      "Requirement already satisfied: six>=1.5 in c:\\python312\\lib\\site-packages (from python-dateutil>=2.8.2->pandas) (1.16.0)\n",
      "Note: you may need to restart the kernel to use updated packages.\n"
     ]
    },
    {
     "name": "stderr",
     "output_type": "stream",
     "text": [
      "\n",
      "[notice] A new release of pip is available: 24.0 -> 24.2\n",
      "[notice] To update, run: python.exe -m pip install --upgrade pip\n"
     ]
    }
   ],
   "source": [
    "%pip install pandas "
   ]
  },
  {
   "cell_type": "markdown",
   "metadata": {},
   "source": [
    "### Imports"
   ]
  },
  {
   "cell_type": "code",
   "execution_count": 39,
   "metadata": {},
   "outputs": [],
   "source": [
    "import pandas as pd\n",
    "import os"
   ]
  },
  {
   "cell_type": "markdown",
   "metadata": {},
   "source": [
    "### Data Loading"
   ]
  },
  {
   "cell_type": "code",
   "execution_count": 40,
   "metadata": {},
   "outputs": [],
   "source": [
    "users = pd.read_csv('../DataGeneration/users.csv')\n",
    "trainings = pd.read_csv('../DataGeneration/trainings.csv')\n",
    "responses = pd.read_csv('../DataGeneration/responses.csv')\n",
    "organisation_reviews = pd.read_csv('../DataGeneration/organisationReviews.csv')"
   ]
  },
  {
   "cell_type": "code",
   "execution_count": 41,
   "metadata": {},
   "outputs": [],
   "source": [
    "os.makedirs('Raw', exist_ok=True)"
   ]
  },
  {
   "cell_type": "code",
   "execution_count": 43,
   "metadata": {},
   "outputs": [],
   "source": [
    "users.to_csv('Raw/usersRaw.csv', index=False)\n",
    "trainings.to_csv('Raw/trainingsRaw.csv', index=False)\n",
    "responses.to_csv('Raw/responsesRaw.csv', index=False)\n",
    "organisation_reviews.to_csv('Raw/organisationReviewsRaw.csv', index=False)"
   ]
  },
  {
   "cell_type": "markdown",
   "metadata": {},
   "source": [
    "### Raw Layer"
   ]
  },
  {
   "cell_type": "markdown",
   "metadata": {},
   "source": [
    "Data is being read from the Raw layer and will be prepared for the stagging layer "
   ]
  },
  {
   "cell_type": "code",
   "execution_count": 57,
   "metadata": {},
   "outputs": [
    {
     "name": "stdout",
     "output_type": "stream",
     "text": [
      "<class 'pandas.core.frame.DataFrame'>\n",
      "RangeIndex: 300 entries, 0 to 299\n",
      "Data columns (total 8 columns):\n",
      " #   Column       Non-Null Count  Dtype \n",
      "---  ------       --------------  ----- \n",
      " 0   userId       300 non-null    int64 \n",
      " 1   userName     300 non-null    object\n",
      " 2   email        300 non-null    object\n",
      " 3   password     300 non-null    object\n",
      " 4   role         300 non-null    object\n",
      " 5   designation  300 non-null    object\n",
      " 6   gender       300 non-null    object\n",
      " 7   joinDate     300 non-null    object\n",
      "dtypes: int64(1), object(7)\n",
      "memory usage: 18.9+ KB\n"
     ]
    }
   ],
   "source": [
    "users_raw_df=pd.DataFrame(pd.read_csv('Raw/usersRaw.csv'))\n",
    "users_raw_df.info()"
   ]
  },
  {
   "cell_type": "code",
   "execution_count": 58,
   "metadata": {},
   "outputs": [
    {
     "name": "stdout",
     "output_type": "stream",
     "text": [
      "<class 'pandas.core.frame.DataFrame'>\n",
      "RangeIndex: 300 entries, 0 to 299\n",
      "Data columns (total 6 columns):\n",
      " #   Column       Non-Null Count  Dtype \n",
      "---  ------       --------------  ----- \n",
      " 0   userId       300 non-null    int64 \n",
      " 1   userName     300 non-null    object\n",
      " 2   email        300 non-null    object\n",
      " 3   role         300 non-null    object\n",
      " 4   designation  300 non-null    object\n",
      " 5   joinDate     300 non-null    object\n",
      "dtypes: int64(1), object(5)\n",
      "memory usage: 14.2+ KB\n"
     ]
    }
   ],
   "source": [
    "users_raw_df.drop('password',axis=1,inplace=True)\n",
    "users_raw_df.drop('gender',axis=1,inplace=True)\n",
    "users_raw_df.info()"
   ]
  },
  {
   "cell_type": "code",
   "execution_count": 60,
   "metadata": {},
   "outputs": [
    {
     "name": "stdout",
     "output_type": "stream",
     "text": [
      "datetime64[ns]\n",
      "datetime64[ns]\n",
      "<class 'pandas.core.frame.DataFrame'>\n",
      "RangeIndex: 300 entries, 0 to 299\n",
      "Data columns (total 6 columns):\n",
      " #   Column       Non-Null Count  Dtype         \n",
      "---  ------       --------------  -----         \n",
      " 0   userId       300 non-null    int64         \n",
      " 1   userName     300 non-null    object        \n",
      " 2   email        300 non-null    object        \n",
      " 3   role         300 non-null    object        \n",
      " 4   designation  300 non-null    object        \n",
      " 5   joinDate     300 non-null    datetime64[ns]\n",
      "dtypes: datetime64[ns](1), int64(1), object(4)\n",
      "memory usage: 14.2+ KB\n"
     ]
    }
   ],
   "source": [
    "print(users_raw_df['joinDate'].dtype)\n",
    "users_raw_df['joinDate']=pd.to_datetime(users_raw_df['joinDate'])\n",
    "print(users_raw_df['joinDate'].dtype)\n",
    "users_raw_df.info()"
   ]
  },
  {
   "cell_type": "code",
   "execution_count": null,
   "metadata": {},
   "outputs": [],
   "source": []
  }
 ],
 "metadata": {
  "kernelspec": {
   "display_name": "Python 3",
   "language": "python",
   "name": "python3"
  },
  "language_info": {
   "codemirror_mode": {
    "name": "ipython",
    "version": 3
   },
   "file_extension": ".py",
   "mimetype": "text/x-python",
   "name": "python",
   "nbconvert_exporter": "python",
   "pygments_lexer": "ipython3",
   "version": "3.12.1"
  }
 },
 "nbformat": 4,
 "nbformat_minor": 2
}
