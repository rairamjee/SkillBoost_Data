{
 "cells": [
  {
   "cell_type": "markdown",
   "metadata": {},
   "source": [
    "#### Imports"
   ]
  },
  {
   "cell_type": "code",
   "execution_count": 56,
   "metadata": {},
   "outputs": [],
   "source": [
    "import pandas as pd \n",
    "import os"
   ]
  },
  {
   "cell_type": "code",
   "execution_count": 57,
   "metadata": {},
   "outputs": [],
   "source": [
    "users_prep_df=pd.DataFrame(pd.read_csv('02Prep/usersPrep.csv'))\n",
    "trainings_prep_df=pd.DataFrame(pd.read_csv('02Prep/trainingsPrep.csv'))\n",
    "responses_prep_df=pd.DataFrame(pd.read_csv('02Prep/responsesPrep.csv'))\n",
    "organisation_review_prep_df=pd.DataFrame(pd.read_csv('02Prep/organisationReviewPrep.csv'))"
   ]
  },
  {
   "cell_type": "code",
   "execution_count": 58,
   "metadata": {},
   "outputs": [],
   "source": [
    "os.makedirs('03Transform',exist_ok=True)"
   ]
  },
  {
   "cell_type": "markdown",
   "metadata": {},
   "source": [
    "##### 1st KPI (AVG SCORES IN EACH TRAINING && SUCCESS RATE OF EACH TRAINING)"
   ]
  },
  {
   "cell_type": "code",
   "execution_count": 59,
   "metadata": {},
   "outputs": [
    {
     "name": "stdout",
     "output_type": "stream",
     "text": [
      "    trainingId  avg_scores\n",
      "16          17       57.02\n",
      "83          84       56.52\n",
      "38          39       55.66\n",
      "9           10       55.48\n",
      "92          93       55.07\n",
      "..         ...         ...\n",
      "36          37       45.06\n",
      "81          82       44.72\n",
      "79          80       44.65\n",
      "33          34       43.61\n",
      "10          11       40.88\n",
      "\n",
      "[100 rows x 2 columns]\n"
     ]
    }
   ],
   "source": [
    "# trainings_prep_df\n",
    "avg_scores=responses_prep_df.groupby('trainingId')['score'].mean().reset_index().round(2)\n",
    "avg_scores.columns=['trainingId','avg_scores']\n",
    "print(avg_scores.sort_values(by='avg_scores',ascending=False))\n"
   ]
  },
  {
   "cell_type": "code",
   "execution_count": 60,
   "metadata": {},
   "outputs": [
    {
     "name": "stdout",
     "output_type": "stream",
     "text": [
      "    trainingId  success_rate_percentage\n",
      "38          39                    52.04\n",
      "98          99                    50.60\n",
      "65          66                    50.56\n",
      "62          63                    50.54\n",
      "24          25                    50.52\n",
      "..         ...                      ...\n",
      "17          18                    33.00\n",
      "99         100                    32.41\n",
      "33          34                    31.82\n",
      "79          80                    29.20\n",
      "10          11                    24.51\n",
      "\n",
      "[100 rows x 2 columns]\n"
     ]
    },
    {
     "name": "stderr",
     "output_type": "stream",
     "text": [
      "C:\\Users\\dell\\AppData\\Local\\Temp\\ipykernel_15392\\2345469540.py:1: DeprecationWarning: DataFrameGroupBy.apply operated on the grouping columns. This behavior is deprecated, and in a future version of pandas the grouping columns will be excluded from the operation. Either pass `include_groups=False` to exclude the groupings or explicitly select the grouping columns after groupby to silence this warning.\n",
      "  success_rate = responses_prep_df.groupby('trainingId').apply(lambda x: (x['score'] >= 60).mean() * 100).reset_index().round(2)\n"
     ]
    }
   ],
   "source": [
    "success_rate = responses_prep_df.groupby('trainingId').apply(lambda x: (x['score'] >= 60).mean() * 100).reset_index().round(2)\n",
    "success_rate.columns = ['trainingId', 'success_rate_percentage']\n",
    "print(success_rate.sort_values(by='success_rate_percentage',ascending=False))"
   ]
  },
  {
   "cell_type": "code",
   "execution_count": 61,
   "metadata": {},
   "outputs": [],
   "source": [
    "avg_success_rate_df=pd.merge(avg_scores, success_rate, on='trainingId')\n",
    "avg_success_rate_df.to_csv('03Transform/trainingAvgSuccessRateTrans.csv',index=False)"
   ]
  },
  {
   "cell_type": "markdown",
   "metadata": {},
   "source": [
    "##### 2nd KPI (RESPONSES OF EACH TRAININGS WITH HIGHEST SCORERS OF EACH TRAININGS)"
   ]
  },
  {
   "cell_type": "code",
   "execution_count": 62,
   "metadata": {},
   "outputs": [
    {
     "name": "stdout",
     "output_type": "stream",
     "text": [
      "    trainingId  total_responses\n",
      "0            1               91\n",
      "1            2              110\n",
      "2            3               76\n",
      "3            4               99\n",
      "4            5              103\n",
      "..         ...              ...\n",
      "95          96              118\n",
      "96          97               97\n",
      "97          98               87\n",
      "98          99               83\n",
      "99         100              108\n",
      "\n",
      "[100 rows x 2 columns]\n"
     ]
    }
   ],
   "source": [
    "response_count=responses_prep_df.groupby('trainingId').size().reset_index(name='total_responses')\n",
    "print(response_count)\n"
   ]
  },
  {
   "cell_type": "code",
   "execution_count": 63,
   "metadata": {},
   "outputs": [
    {
     "name": "stdout",
     "output_type": "stream",
     "text": [
      "      trainingId  userId_with_highest_score  highest_score\n",
      "4777           1                        172            100\n",
      "176            2                        257            100\n",
      "3564           3                         32             99\n",
      "2479           4                        287             99\n",
      "9147           5                        221            100\n",
      "...          ...                        ...            ...\n",
      "427           96                        205            100\n",
      "403           97                         19            100\n",
      "3994          98                        174            100\n",
      "2790          99                        139            100\n",
      "1598         100                        243            100\n",
      "\n",
      "[100 rows x 3 columns]\n"
     ]
    }
   ],
   "source": [
    "max_scores = responses_prep_df.loc[responses_prep_df.groupby('trainingId')['score'].idxmax()][['trainingId','userId','score']]\n",
    "max_scores.columns = ['trainingId', 'userId_with_highest_score', 'highest_score']\n",
    "print(max_scores)\n"
   ]
  },
  {
   "cell_type": "code",
   "execution_count": 64,
   "metadata": {},
   "outputs": [],
   "source": [
    "(pd.merge(response_count,max_scores, on='trainingId')).to_csv('03Transform/trainingOverviewsTrans.csv')"
   ]
  },
  {
   "cell_type": "code",
   "execution_count": null,
   "metadata": {},
   "outputs": [],
   "source": []
  }
 ],
 "metadata": {
  "kernelspec": {
   "display_name": "Python 3",
   "language": "python",
   "name": "python3"
  },
  "language_info": {
   "codemirror_mode": {
    "name": "ipython",
    "version": 3
   },
   "file_extension": ".py",
   "mimetype": "text/x-python",
   "name": "python",
   "nbconvert_exporter": "python",
   "pygments_lexer": "ipython3",
   "version": "3.12.1"
  }
 },
 "nbformat": 4,
 "nbformat_minor": 2
}
