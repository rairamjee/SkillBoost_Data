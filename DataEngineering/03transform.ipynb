{
 "cells": [
  {
   "cell_type": "markdown",
   "metadata": {},
   "source": [
    "#### Imports"
   ]
  },
  {
   "cell_type": "code",
   "execution_count": 1,
   "metadata": {},
   "outputs": [],
   "source": [
    "import pandas as pd \n",
    "import os"
   ]
  },
  {
   "cell_type": "code",
   "execution_count": 2,
   "metadata": {},
   "outputs": [],
   "source": [
    "users_prep_df=pd.DataFrame(pd.read_csv('02Prep/usersPrep.csv'))\n",
    "trainings_prep_df=pd.DataFrame(pd.read_csv('02Prep/trainingsPrep.csv'))\n",
    "responses_prep_df=pd.DataFrame(pd.read_csv('02Prep/responsesPrep.csv'))\n",
    "organisation_review_prep_df=pd.DataFrame(pd.read_csv('02Prep/organisationReviewPrep.csv'))"
   ]
  },
  {
   "cell_type": "code",
   "execution_count": 3,
   "metadata": {},
   "outputs": [],
   "source": [
    "os.makedirs('03Transform',exist_ok=True)"
   ]
  },
  {
   "cell_type": "markdown",
   "metadata": {},
   "source": [
    "##### 1st KPI (AVG SCORES IN EACH TRAINING && SUCCESS RATE OF EACH TRAINING)"
   ]
  },
  {
   "cell_type": "code",
   "execution_count": 4,
   "metadata": {},
   "outputs": [
    {
     "name": "stdout",
     "output_type": "stream",
     "text": [
      "    trainingId  avg_scores\n",
      "16          17       57.02\n",
      "83          84       56.52\n",
      "38          39       55.66\n",
      "9           10       55.48\n",
      "92          93       55.07\n",
      "..         ...         ...\n",
      "36          37       45.06\n",
      "81          82       44.72\n",
      "79          80       44.65\n",
      "33          34       43.61\n",
      "10          11       40.88\n",
      "\n",
      "[100 rows x 2 columns]\n"
     ]
    }
   ],
   "source": [
    "# trainings_prep_df\n",
    "avg_scores=responses_prep_df.groupby('trainingId')['score'].mean().reset_index().round(2)\n",
    "avg_scores.columns=['trainingId','avg_scores']\n",
    "print(avg_scores.sort_values(by='avg_scores',ascending=False))\n"
   ]
  },
  {
   "cell_type": "code",
   "execution_count": 5,
   "metadata": {},
   "outputs": [
    {
     "name": "stdout",
     "output_type": "stream",
     "text": [
      "    trainingId  success_rate_percentage\n",
      "38          39                    52.04\n",
      "98          99                    50.60\n",
      "65          66                    50.56\n",
      "62          63                    50.54\n",
      "24          25                    50.52\n",
      "..         ...                      ...\n",
      "17          18                    33.00\n",
      "99         100                    32.41\n",
      "33          34                    31.82\n",
      "79          80                    29.20\n",
      "10          11                    24.51\n",
      "\n",
      "[100 rows x 2 columns]\n"
     ]
    },
    {
     "name": "stderr",
     "output_type": "stream",
     "text": [
      "C:\\Users\\RamjeeRai\\AppData\\Local\\Temp\\ipykernel_30256\\2345469540.py:1: DeprecationWarning: DataFrameGroupBy.apply operated on the grouping columns. This behavior is deprecated, and in a future version of pandas the grouping columns will be excluded from the operation. Either pass `include_groups=False` to exclude the groupings or explicitly select the grouping columns after groupby to silence this warning.\n",
      "  success_rate = responses_prep_df.groupby('trainingId').apply(lambda x: (x['score'] >= 60).mean() * 100).reset_index().round(2)\n"
     ]
    }
   ],
   "source": [
    "success_rate = responses_prep_df.groupby('trainingId').apply(lambda x: (x['score'] >= 60).mean() * 100).reset_index().round(2)\n",
    "success_rate.columns = ['trainingId', 'success_rate_percentage']\n",
    "print(success_rate.sort_values(by='success_rate_percentage',ascending=False))"
   ]
  },
  {
   "cell_type": "code",
   "execution_count": 6,
   "metadata": {},
   "outputs": [],
   "source": [
    "avg_success_rate_df=pd.merge(avg_scores, success_rate, on='trainingId')\n",
    "avg_success_rate_df.to_csv('03Transform/trainingAvgSuccessRateTrans.csv',index=False)"
   ]
  },
  {
   "cell_type": "markdown",
   "metadata": {},
   "source": [
    "##### 2nd KPI (RESPONSES OF EACH TRAININGS WITH HIGHEST SCORERS OF EACH TRAININGS)"
   ]
  },
  {
   "cell_type": "code",
   "execution_count": 7,
   "metadata": {},
   "outputs": [
    {
     "name": "stdout",
     "output_type": "stream",
     "text": [
      "    trainingId  total_responses\n",
      "0            1               91\n",
      "1            2              110\n",
      "2            3               76\n",
      "3            4               99\n",
      "4            5              103\n",
      "..         ...              ...\n",
      "95          96              118\n",
      "96          97               97\n",
      "97          98               87\n",
      "98          99               83\n",
      "99         100              108\n",
      "\n",
      "[100 rows x 2 columns]\n"
     ]
    }
   ],
   "source": [
    "response_count=responses_prep_df.groupby('trainingId').size().reset_index(name='total_responses')\n",
    "print(response_count)\n"
   ]
  },
  {
   "cell_type": "code",
   "execution_count": 8,
   "metadata": {},
   "outputs": [
    {
     "name": "stdout",
     "output_type": "stream",
     "text": [
      "      trainingId  userId_with_highest_score  highest_score\n",
      "4777           1                        172            100\n",
      "176            2                        257            100\n",
      "3564           3                         32             99\n",
      "2479           4                        287             99\n",
      "9147           5                        221            100\n",
      "...          ...                        ...            ...\n",
      "427           96                        205            100\n",
      "403           97                         19            100\n",
      "3994          98                        174            100\n",
      "2790          99                        139            100\n",
      "1598         100                        243            100\n",
      "\n",
      "[100 rows x 3 columns]\n"
     ]
    }
   ],
   "source": [
    "max_scores = responses_prep_df.loc[responses_prep_df.groupby('trainingId')['score'].idxmax()][['trainingId','userId','score']]\n",
    "max_scores.columns = ['trainingId', 'userId_with_highest_score', 'highest_score']\n",
    "print(max_scores)\n"
   ]
  },
  {
   "cell_type": "code",
   "execution_count": 9,
   "metadata": {},
   "outputs": [],
   "source": [
    "(pd.merge(response_count,max_scores, on='trainingId')).to_csv('03Transform/trainingOverviewsTrans.csv')"
   ]
  },
  {
   "cell_type": "markdown",
   "metadata": {},
   "source": [
    "##### 3rd KPI (TOTAL TRAININGS IN EACH DOMAIN)"
   ]
  },
  {
   "cell_type": "code",
   "execution_count": 10,
   "metadata": {},
   "outputs": [],
   "source": [
    "# total_trainings_by_domain = trainings_prep_df['domainName'].value_counts().reset_index()\n",
    "total_trainings_by_domain=trainings_prep_df.groupby(['domainId','domainName']).agg(\n",
    "    training_count=('trainingId', 'count'),\n",
    "    earliest_start_date=('startDate', 'min'),\n",
    "    latest_start_date=('startDate', 'max')\n",
    ").reset_index()\n",
    "total_trainings_by_domain.to_csv('03Transform/domainDetailsTrans.csv')\n"
   ]
  },
  {
   "cell_type": "markdown",
   "metadata": {},
   "source": [
    "##### 4th KPI(Organisation Review Score)"
   ]
  },
  {
   "cell_type": "code",
   "execution_count": 11,
   "metadata": {},
   "outputs": [],
   "source": [
    "organisation_review_prep_df['performanceScore']=organisation_review_prep_df['communicationMarks']+organisation_review_prep_df['hardWorkingMarks']+organisation_review_prep_df['disciplineMarks']"
   ]
  },
  {
   "cell_type": "code",
   "execution_count": 12,
   "metadata": {},
   "outputs": [],
   "source": [
    "# organisation_review_prep_df.drop(columns=['communicationMarks','hardWorkingMarks','disciplineMarks'],axis=1,inplace=True)\n",
    "organisation_review_prep_df.to_csv('03Transform/organisationReviewTrans.csv',index=False)"
   ]
  },
  {
   "cell_type": "markdown",
   "metadata": {},
   "source": [
    "##### 5th KPI(Employees Details)"
   ]
  },
  {
   "cell_type": "code",
   "execution_count": 13,
   "metadata": {},
   "outputs": [],
   "source": [
    "users_prep_df.to_csv('03Transform/usersTrans.csv',index=False)"
   ]
  },
  {
   "cell_type": "markdown",
   "metadata": {},
   "source": [
    "##### 6th KPI"
   ]
  },
  {
   "cell_type": "code",
   "execution_count": 14,
   "metadata": {},
   "outputs": [
    {
     "name": "stdout",
     "output_type": "stream",
     "text": [
      "Merged DataFrame with NaNs filled:\n",
      "       responseId  userId  trainingId  score responseDate  reviewId  \\\n",
      "0               1      95          20      2   2024-10-06       NaN   \n",
      "1               2     181          28     34   2024-10-07       NaN   \n",
      "2               3     146           2     71   2024-10-07       NaN   \n",
      "3               4     293          39      4   2024-10-06       NaN   \n",
      "4               5       3          86     48   2024-10-07    1655.0   \n",
      "...           ...     ...         ...    ...          ...       ...   \n",
      "10503        9997     291           2     46   2024-10-07       NaN   \n",
      "10504        9998     222           5     46   2024-10-06       NaN   \n",
      "10505        9999      94          56     10   2024-10-06       NaN   \n",
      "10506       10000     110          11      7   2024-10-06    4335.0   \n",
      "10507       10000     110          11      7   2024-10-06    8481.0   \n",
      "\n",
      "       organisationScore  communicationMarks  hardWorkingMarks  \\\n",
      "0                   89.0                 1.0               0.0   \n",
      "1                   89.0                 1.0               0.0   \n",
      "2                   89.0                 1.0               0.0   \n",
      "3                   89.0                 1.0               0.0   \n",
      "4                   16.0                 1.0               0.0   \n",
      "...                  ...                 ...               ...   \n",
      "10503               89.0                 1.0               0.0   \n",
      "10504               89.0                 1.0               0.0   \n",
      "10505               89.0                 1.0               0.0   \n",
      "10506               43.0                 0.0               1.0   \n",
      "10507               72.0                 1.0               1.0   \n",
      "\n",
      "       disciplineMarks  performanceScore  \n",
      "0                  0.0               1.0  \n",
      "1                  0.0               1.0  \n",
      "2                  0.0               1.0  \n",
      "3                  0.0               1.0  \n",
      "4                  1.0               2.0  \n",
      "...                ...               ...  \n",
      "10503              0.0               1.0  \n",
      "10504              0.0               1.0  \n",
      "10505              0.0               1.0  \n",
      "10506              0.0               1.0  \n",
      "10507              1.0               3.0  \n",
      "\n",
      "[10508 rows x 11 columns]\n"
     ]
    },
    {
     "name": "stderr",
     "output_type": "stream",
     "text": [
      "C:\\Users\\RamjeeRai\\AppData\\Local\\Temp\\ipykernel_30256\\2250685029.py:4: FutureWarning: A value is trying to be set on a copy of a DataFrame or Series through chained assignment using an inplace method.\n",
      "The behavior will change in pandas 3.0. This inplace method will never work because the intermediate object on which we are setting values always behaves as a copy.\n",
      "\n",
      "For example, when doing 'df[col].method(value, inplace=True)', try using 'df.method({col: value}, inplace=True)' or df[col] = df[col].method(value) instead, to perform the operation inplace on the original object.\n",
      "\n",
      "\n",
      "  merged_df['organisationScore'].fillna(merged_df['organisationScore'].mode()[0], inplace=True)\n",
      "C:\\Users\\RamjeeRai\\AppData\\Local\\Temp\\ipykernel_30256\\2250685029.py:5: FutureWarning: A value is trying to be set on a copy of a DataFrame or Series through chained assignment using an inplace method.\n",
      "The behavior will change in pandas 3.0. This inplace method will never work because the intermediate object on which we are setting values always behaves as a copy.\n",
      "\n",
      "For example, when doing 'df[col].method(value, inplace=True)', try using 'df.method({col: value}, inplace=True)' or df[col] = df[col].method(value) instead, to perform the operation inplace on the original object.\n",
      "\n",
      "\n",
      "  merged_df['communicationMarks'].fillna(merged_df['communicationMarks'].mode()[0], inplace=True)\n",
      "C:\\Users\\RamjeeRai\\AppData\\Local\\Temp\\ipykernel_30256\\2250685029.py:6: FutureWarning: A value is trying to be set on a copy of a DataFrame or Series through chained assignment using an inplace method.\n",
      "The behavior will change in pandas 3.0. This inplace method will never work because the intermediate object on which we are setting values always behaves as a copy.\n",
      "\n",
      "For example, when doing 'df[col].method(value, inplace=True)', try using 'df.method({col: value}, inplace=True)' or df[col] = df[col].method(value) instead, to perform the operation inplace on the original object.\n",
      "\n",
      "\n",
      "  merged_df['hardWorkingMarks'].fillna(merged_df['hardWorkingMarks'].mode()[0], inplace=True)\n",
      "C:\\Users\\RamjeeRai\\AppData\\Local\\Temp\\ipykernel_30256\\2250685029.py:7: FutureWarning: A value is trying to be set on a copy of a DataFrame or Series through chained assignment using an inplace method.\n",
      "The behavior will change in pandas 3.0. This inplace method will never work because the intermediate object on which we are setting values always behaves as a copy.\n",
      "\n",
      "For example, when doing 'df[col].method(value, inplace=True)', try using 'df.method({col: value}, inplace=True)' or df[col] = df[col].method(value) instead, to perform the operation inplace on the original object.\n",
      "\n",
      "\n",
      "  merged_df['disciplineMarks'].fillna(merged_df['disciplineMarks'].mode()[0], inplace=True)\n",
      "C:\\Users\\RamjeeRai\\AppData\\Local\\Temp\\ipykernel_30256\\2250685029.py:8: FutureWarning: A value is trying to be set on a copy of a DataFrame or Series through chained assignment using an inplace method.\n",
      "The behavior will change in pandas 3.0. This inplace method will never work because the intermediate object on which we are setting values always behaves as a copy.\n",
      "\n",
      "For example, when doing 'df[col].method(value, inplace=True)', try using 'df.method({col: value}, inplace=True)' or df[col] = df[col].method(value) instead, to perform the operation inplace on the original object.\n",
      "\n",
      "\n",
      "  merged_df['performanceScore'].fillna(merged_df['performanceScore'].mode()[0], inplace=True)\n"
     ]
    }
   ],
   "source": [
    "merged_df = responses_prep_df.merge(organisation_review_prep_df, on=['userId', 'trainingId'], how='left')\n",
    "\n",
    "# Fill NaN values with the mode of each respective column\n",
    "merged_df['organisationScore'].fillna(merged_df['organisationScore'].mode()[0], inplace=True)\n",
    "merged_df['communicationMarks'].fillna(merged_df['communicationMarks'].mode()[0], inplace=True)\n",
    "merged_df['hardWorkingMarks'].fillna(merged_df['hardWorkingMarks'].mode()[0], inplace=True)\n",
    "merged_df['disciplineMarks'].fillna(merged_df['disciplineMarks'].mode()[0], inplace=True)\n",
    "merged_df['performanceScore'].fillna(merged_df['performanceScore'].mode()[0], inplace=True)\n",
    "# Display the merged DataFrame with filled values\n",
    "print(\"Merged DataFrame with NaNs filled:\")\n",
    "print(merged_df)\n",
    "# merged_df.drop('reviewId',axis=1,inplace=True)\n"
   ]
  },
  {
   "cell_type": "code",
   "execution_count": 15,
   "metadata": {},
   "outputs": [
    {
     "data": {
      "text/plain": [
       "performanceScore\n",
       "1.0    8373\n",
       "2.0    1285\n",
       "0.0     432\n",
       "3.0     418\n",
       "Name: count, dtype: int64"
      ]
     },
     "execution_count": 15,
     "metadata": {},
     "output_type": "execute_result"
    }
   ],
   "source": [
    "merged_df['performanceScore']=merged_df['communicationMarks']+merged_df['disciplineMarks']+merged_df['hardWorkingMarks']\n",
    "merged_df['performanceScore'].value_counts()"
   ]
  },
  {
   "cell_type": "code",
   "execution_count": 16,
   "metadata": {},
   "outputs": [
    {
     "data": {
      "text/html": [
       "<div>\n",
       "<style scoped>\n",
       "    .dataframe tbody tr th:only-of-type {\n",
       "        vertical-align: middle;\n",
       "    }\n",
       "\n",
       "    .dataframe tbody tr th {\n",
       "        vertical-align: top;\n",
       "    }\n",
       "\n",
       "    .dataframe thead th {\n",
       "        text-align: right;\n",
       "    }\n",
       "</style>\n",
       "<table border=\"1\" class=\"dataframe\">\n",
       "  <thead>\n",
       "    <tr style=\"text-align: right;\">\n",
       "      <th></th>\n",
       "      <th>responseId</th>\n",
       "      <th>userId</th>\n",
       "      <th>trainingId</th>\n",
       "      <th>score</th>\n",
       "      <th>responseDate</th>\n",
       "      <th>reviewId</th>\n",
       "      <th>organisationScore</th>\n",
       "      <th>communicationMarks</th>\n",
       "      <th>hardWorkingMarks</th>\n",
       "      <th>disciplineMarks</th>\n",
       "      <th>performanceScore</th>\n",
       "    </tr>\n",
       "  </thead>\n",
       "  <tbody>\n",
       "    <tr>\n",
       "      <th>0</th>\n",
       "      <td>1</td>\n",
       "      <td>95</td>\n",
       "      <td>20</td>\n",
       "      <td>2</td>\n",
       "      <td>2024-10-06</td>\n",
       "      <td>NaN</td>\n",
       "      <td>89.0</td>\n",
       "      <td>1.0</td>\n",
       "      <td>0.0</td>\n",
       "      <td>0.0</td>\n",
       "      <td>1.0</td>\n",
       "    </tr>\n",
       "    <tr>\n",
       "      <th>1</th>\n",
       "      <td>2</td>\n",
       "      <td>181</td>\n",
       "      <td>28</td>\n",
       "      <td>34</td>\n",
       "      <td>2024-10-07</td>\n",
       "      <td>NaN</td>\n",
       "      <td>89.0</td>\n",
       "      <td>1.0</td>\n",
       "      <td>0.0</td>\n",
       "      <td>0.0</td>\n",
       "      <td>1.0</td>\n",
       "    </tr>\n",
       "    <tr>\n",
       "      <th>2</th>\n",
       "      <td>3</td>\n",
       "      <td>146</td>\n",
       "      <td>2</td>\n",
       "      <td>71</td>\n",
       "      <td>2024-10-07</td>\n",
       "      <td>NaN</td>\n",
       "      <td>89.0</td>\n",
       "      <td>1.0</td>\n",
       "      <td>0.0</td>\n",
       "      <td>0.0</td>\n",
       "      <td>1.0</td>\n",
       "    </tr>\n",
       "    <tr>\n",
       "      <th>3</th>\n",
       "      <td>4</td>\n",
       "      <td>293</td>\n",
       "      <td>39</td>\n",
       "      <td>4</td>\n",
       "      <td>2024-10-06</td>\n",
       "      <td>NaN</td>\n",
       "      <td>89.0</td>\n",
       "      <td>1.0</td>\n",
       "      <td>0.0</td>\n",
       "      <td>0.0</td>\n",
       "      <td>1.0</td>\n",
       "    </tr>\n",
       "    <tr>\n",
       "      <th>4</th>\n",
       "      <td>5</td>\n",
       "      <td>3</td>\n",
       "      <td>86</td>\n",
       "      <td>48</td>\n",
       "      <td>2024-10-07</td>\n",
       "      <td>1655.0</td>\n",
       "      <td>16.0</td>\n",
       "      <td>1.0</td>\n",
       "      <td>0.0</td>\n",
       "      <td>1.0</td>\n",
       "      <td>2.0</td>\n",
       "    </tr>\n",
       "    <tr>\n",
       "      <th>...</th>\n",
       "      <td>...</td>\n",
       "      <td>...</td>\n",
       "      <td>...</td>\n",
       "      <td>...</td>\n",
       "      <td>...</td>\n",
       "      <td>...</td>\n",
       "      <td>...</td>\n",
       "      <td>...</td>\n",
       "      <td>...</td>\n",
       "      <td>...</td>\n",
       "      <td>...</td>\n",
       "    </tr>\n",
       "    <tr>\n",
       "      <th>10503</th>\n",
       "      <td>9997</td>\n",
       "      <td>291</td>\n",
       "      <td>2</td>\n",
       "      <td>46</td>\n",
       "      <td>2024-10-07</td>\n",
       "      <td>NaN</td>\n",
       "      <td>89.0</td>\n",
       "      <td>1.0</td>\n",
       "      <td>0.0</td>\n",
       "      <td>0.0</td>\n",
       "      <td>1.0</td>\n",
       "    </tr>\n",
       "    <tr>\n",
       "      <th>10504</th>\n",
       "      <td>9998</td>\n",
       "      <td>222</td>\n",
       "      <td>5</td>\n",
       "      <td>46</td>\n",
       "      <td>2024-10-06</td>\n",
       "      <td>NaN</td>\n",
       "      <td>89.0</td>\n",
       "      <td>1.0</td>\n",
       "      <td>0.0</td>\n",
       "      <td>0.0</td>\n",
       "      <td>1.0</td>\n",
       "    </tr>\n",
       "    <tr>\n",
       "      <th>10505</th>\n",
       "      <td>9999</td>\n",
       "      <td>94</td>\n",
       "      <td>56</td>\n",
       "      <td>10</td>\n",
       "      <td>2024-10-06</td>\n",
       "      <td>NaN</td>\n",
       "      <td>89.0</td>\n",
       "      <td>1.0</td>\n",
       "      <td>0.0</td>\n",
       "      <td>0.0</td>\n",
       "      <td>1.0</td>\n",
       "    </tr>\n",
       "    <tr>\n",
       "      <th>10506</th>\n",
       "      <td>10000</td>\n",
       "      <td>110</td>\n",
       "      <td>11</td>\n",
       "      <td>7</td>\n",
       "      <td>2024-10-06</td>\n",
       "      <td>4335.0</td>\n",
       "      <td>43.0</td>\n",
       "      <td>0.0</td>\n",
       "      <td>1.0</td>\n",
       "      <td>0.0</td>\n",
       "      <td>1.0</td>\n",
       "    </tr>\n",
       "    <tr>\n",
       "      <th>10507</th>\n",
       "      <td>10000</td>\n",
       "      <td>110</td>\n",
       "      <td>11</td>\n",
       "      <td>7</td>\n",
       "      <td>2024-10-06</td>\n",
       "      <td>8481.0</td>\n",
       "      <td>72.0</td>\n",
       "      <td>1.0</td>\n",
       "      <td>1.0</td>\n",
       "      <td>1.0</td>\n",
       "      <td>3.0</td>\n",
       "    </tr>\n",
       "  </tbody>\n",
       "</table>\n",
       "<p>10508 rows × 11 columns</p>\n",
       "</div>"
      ],
      "text/plain": [
       "       responseId  userId  trainingId  score responseDate  reviewId  \\\n",
       "0               1      95          20      2   2024-10-06       NaN   \n",
       "1               2     181          28     34   2024-10-07       NaN   \n",
       "2               3     146           2     71   2024-10-07       NaN   \n",
       "3               4     293          39      4   2024-10-06       NaN   \n",
       "4               5       3          86     48   2024-10-07    1655.0   \n",
       "...           ...     ...         ...    ...          ...       ...   \n",
       "10503        9997     291           2     46   2024-10-07       NaN   \n",
       "10504        9998     222           5     46   2024-10-06       NaN   \n",
       "10505        9999      94          56     10   2024-10-06       NaN   \n",
       "10506       10000     110          11      7   2024-10-06    4335.0   \n",
       "10507       10000     110          11      7   2024-10-06    8481.0   \n",
       "\n",
       "       organisationScore  communicationMarks  hardWorkingMarks  \\\n",
       "0                   89.0                 1.0               0.0   \n",
       "1                   89.0                 1.0               0.0   \n",
       "2                   89.0                 1.0               0.0   \n",
       "3                   89.0                 1.0               0.0   \n",
       "4                   16.0                 1.0               0.0   \n",
       "...                  ...                 ...               ...   \n",
       "10503               89.0                 1.0               0.0   \n",
       "10504               89.0                 1.0               0.0   \n",
       "10505               89.0                 1.0               0.0   \n",
       "10506               43.0                 0.0               1.0   \n",
       "10507               72.0                 1.0               1.0   \n",
       "\n",
       "       disciplineMarks  performanceScore  \n",
       "0                  0.0               1.0  \n",
       "1                  0.0               1.0  \n",
       "2                  0.0               1.0  \n",
       "3                  0.0               1.0  \n",
       "4                  1.0               2.0  \n",
       "...                ...               ...  \n",
       "10503              0.0               1.0  \n",
       "10504              0.0               1.0  \n",
       "10505              0.0               1.0  \n",
       "10506              0.0               1.0  \n",
       "10507              1.0               3.0  \n",
       "\n",
       "[10508 rows x 11 columns]"
      ]
     },
     "execution_count": 16,
     "metadata": {},
     "output_type": "execute_result"
    }
   ],
   "source": [
    "merged_df"
   ]
  }
 ],
 "metadata": {
  "kernelspec": {
   "display_name": "Python 3",
   "language": "python",
   "name": "python3"
  },
  "language_info": {
   "codemirror_mode": {
    "name": "ipython",
    "version": 3
   },
   "file_extension": ".py",
   "mimetype": "text/x-python",
   "name": "python",
   "nbconvert_exporter": "python",
   "pygments_lexer": "ipython3",
   "version": "3.12.1"
  }
 },
 "nbformat": 4,
 "nbformat_minor": 2
}
