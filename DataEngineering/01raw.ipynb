{
 "cells": [
  {
   "cell_type": "code",
   "execution_count": 7,
   "metadata": {},
   "outputs": [
    {
     "name": "stdout",
     "output_type": "stream",
     "text": [
      "Defaulting to user installation because normal site-packages is not writeable\n",
      "Requirement already satisfied: pandas in c:\\users\\ramjeerai\\appdata\\roaming\\python\\python312\\site-packages (2.2.2)\n",
      "Requirement already satisfied: numpy>=1.26.0 in c:\\users\\ramjeerai\\appdata\\roaming\\python\\python312\\site-packages (from pandas) (2.1.0)\n",
      "Requirement already satisfied: python-dateutil>=2.8.2 in c:\\users\\ramjeerai\\appdata\\roaming\\python\\python312\\site-packages (from pandas) (2.9.0.post0)\n",
      "Requirement already satisfied: pytz>=2020.1 in c:\\users\\ramjeerai\\appdata\\roaming\\python\\python312\\site-packages (from pandas) (2024.1)\n",
      "Requirement already satisfied: tzdata>=2022.7 in c:\\users\\ramjeerai\\appdata\\roaming\\python\\python312\\site-packages (from pandas) (2024.1)\n",
      "Requirement already satisfied: six>=1.5 in c:\\users\\ramjeerai\\appdata\\roaming\\python\\python312\\site-packages (from python-dateutil>=2.8.2->pandas) (1.16.0)\n",
      "Note: you may need to restart the kernel to use updated packages.\n"
     ]
    }
   ],
   "source": [
    "%pip install pandas "
   ]
  },
  {
   "cell_type": "markdown",
   "metadata": {},
   "source": [
    "### Imports"
   ]
  },
  {
   "cell_type": "code",
   "execution_count": 2,
   "metadata": {},
   "outputs": [],
   "source": [
    "import pandas as pd\n",
    "import os"
   ]
  },
  {
   "cell_type": "markdown",
   "metadata": {},
   "source": [
    "### Raw"
   ]
  },
  {
   "cell_type": "code",
   "execution_count": 3,
   "metadata": {},
   "outputs": [],
   "source": [
    "users = pd.read_csv('../DataGeneration/users.csv')\n",
    "trainings = pd.read_csv('../DataGeneration/trainings.csv')\n",
    "responses = pd.read_csv('../DataGeneration/responses.csv')\n",
    "organisation_reviews = pd.read_csv('../DataGeneration/organisationReviews.csv')"
   ]
  },
  {
   "cell_type": "code",
   "execution_count": 4,
   "metadata": {},
   "outputs": [],
   "source": [
    "os.makedirs('01Raw', exist_ok=True)"
   ]
  },
  {
   "cell_type": "code",
   "execution_count": 5,
   "metadata": {},
   "outputs": [],
   "source": [
    "users.to_csv('01Raw/usersRaw.csv', index=False)\n",
    "trainings.to_csv('01Raw/trainingsRaw.csv', index=False)\n",
    "responses.to_csv('01Raw/responsesRaw.csv', index=False)\n",
    "organisation_reviews.to_csv('01Raw/organisationReviewsRaw.csv', index=False)"
   ]
  },
  {
   "cell_type": "markdown",
   "metadata": {},
   "source": [
    "### Raw Layer"
   ]
  },
  {
   "cell_type": "markdown",
   "metadata": {},
   "source": [
    "##### Users"
   ]
  },
  {
   "cell_type": "code",
   "execution_count": 6,
   "metadata": {},
   "outputs": [
    {
     "name": "stdout",
     "output_type": "stream",
     "text": [
      "<class 'pandas.core.frame.DataFrame'>\n",
      "RangeIndex: 300 entries, 0 to 299\n",
      "Data columns (total 8 columns):\n",
      " #   Column       Non-Null Count  Dtype \n",
      "---  ------       --------------  ----- \n",
      " 0   userId       300 non-null    int64 \n",
      " 1   userName     300 non-null    object\n",
      " 2   email        300 non-null    object\n",
      " 3   password     300 non-null    object\n",
      " 4   role         300 non-null    object\n",
      " 5   designation  300 non-null    object\n",
      " 6   gender       300 non-null    object\n",
      " 7   joinDate     300 non-null    object\n",
      "dtypes: int64(1), object(7)\n",
      "memory usage: 18.9+ KB\n"
     ]
    }
   ],
   "source": [
    "users_raw_df=pd.DataFrame(pd.read_csv('01Raw/usersRaw.csv'))\n",
    "users_raw_df.info()"
   ]
  },
  {
   "cell_type": "markdown",
   "metadata": {},
   "source": [
    "##### Trainings"
   ]
  },
  {
   "cell_type": "code",
   "execution_count": 7,
   "metadata": {},
   "outputs": [
    {
     "name": "stdout",
     "output_type": "stream",
     "text": [
      "<class 'pandas.core.frame.DataFrame'>\n",
      "RangeIndex: 100 entries, 0 to 99\n",
      "Data columns (total 7 columns):\n",
      " #   Column        Non-Null Count  Dtype \n",
      "---  ------        --------------  ----- \n",
      " 0   trainingId    100 non-null    int64 \n",
      " 1   trainingName  100 non-null    object\n",
      " 2   description   100 non-null    object\n",
      " 3   domainName    100 non-null    object\n",
      " 4   domainId      100 non-null    int64 \n",
      " 5   duration      100 non-null    int64 \n",
      " 6   startDate     100 non-null    object\n",
      "dtypes: int64(3), object(4)\n",
      "memory usage: 5.6+ KB\n"
     ]
    }
   ],
   "source": [
    "trainings_raw_df=pd.DataFrame(pd.read_csv('01Raw/trainingsRaw.csv'))\n",
    "trainings_raw_df.info()"
   ]
  },
  {
   "cell_type": "markdown",
   "metadata": {},
   "source": [
    "##### Responses "
   ]
  },
  {
   "cell_type": "code",
   "execution_count": 8,
   "metadata": {},
   "outputs": [
    {
     "name": "stdout",
     "output_type": "stream",
     "text": [
      "<class 'pandas.core.frame.DataFrame'>\n",
      "RangeIndex: 10000 entries, 0 to 9999\n",
      "Data columns (total 5 columns):\n",
      " #   Column        Non-Null Count  Dtype \n",
      "---  ------        --------------  ----- \n",
      " 0   responseId    10000 non-null  int64 \n",
      " 1   userId        10000 non-null  int64 \n",
      " 2   trainingId    10000 non-null  int64 \n",
      " 3   score         10000 non-null  int64 \n",
      " 4   responseDate  10000 non-null  object\n",
      "dtypes: int64(4), object(1)\n",
      "memory usage: 390.8+ KB\n"
     ]
    },
    {
     "data": {
      "text/plain": [
       "300"
      ]
     },
     "execution_count": 8,
     "metadata": {},
     "output_type": "execute_result"
    }
   ],
   "source": [
    "responses_raw_df=pd.DataFrame(pd.read_csv('01Raw/responsesRaw.csv'))\n",
    "responses_raw_df.info()\n",
    "responses_raw_df['userId'].nunique()"
   ]
  },
  {
   "cell_type": "markdown",
   "metadata": {},
   "source": [
    "##### OrganisationReview "
   ]
  },
  {
   "cell_type": "code",
   "execution_count": 9,
   "metadata": {},
   "outputs": [
    {
     "name": "stdout",
     "output_type": "stream",
     "text": [
      "<class 'pandas.core.frame.DataFrame'>\n",
      "RangeIndex: 10000 entries, 0 to 9999\n",
      "Data columns (total 7 columns):\n",
      " #   Column             Non-Null Count  Dtype\n",
      "---  ------             --------------  -----\n",
      " 0   reviewId           10000 non-null  int64\n",
      " 1   userId             10000 non-null  int64\n",
      " 2   trainingId         10000 non-null  int64\n",
      " 3   organisationScore  10000 non-null  int64\n",
      " 4   discipline         10000 non-null  bool \n",
      " 5   hardWorking        10000 non-null  bool \n",
      " 6   communication      10000 non-null  bool \n",
      "dtypes: bool(3), int64(4)\n",
      "memory usage: 341.9 KB\n"
     ]
    }
   ],
   "source": [
    "organisation_reviews_raw_df=pd.DataFrame(pd.read_csv('01Raw/organisationReviewsRaw.csv'))\n",
    "organisation_reviews_raw_df.info()"
   ]
  }
 ],
 "metadata": {
  "kernelspec": {
   "display_name": "Python 3",
   "language": "python",
   "name": "python3"
  },
  "language_info": {
   "codemirror_mode": {
    "name": "ipython",
    "version": 3
   },
   "file_extension": ".py",
   "mimetype": "text/x-python",
   "name": "python",
   "nbconvert_exporter": "python",
   "pygments_lexer": "ipython3",
   "version": "3.12.5"
  }
 },
 "nbformat": 4,
 "nbformat_minor": 2
}
